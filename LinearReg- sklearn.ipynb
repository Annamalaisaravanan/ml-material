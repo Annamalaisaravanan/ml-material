{
 "cells": [
  {
   "cell_type": "code",
   "execution_count": 1,
   "id": "42bae6de",
   "metadata": {},
   "outputs": [],
   "source": [
    "import pandas as pd\n",
    "import numpy as np"
   ]
  },
  {
   "cell_type": "code",
   "execution_count": 3,
   "id": "9e0acba0",
   "metadata": {},
   "outputs": [],
   "source": [
    "data = pd.read_csv(r\"E:\\Dataset\\P14-Simple-Linear-Regression\\Simple_Linear_Regression\\Salary_Data.csv\")"
   ]
  },
  {
   "cell_type": "code",
   "execution_count": 4,
   "id": "3c0244c9",
   "metadata": {},
   "outputs": [
    {
     "data": {
      "text/html": [
       "<div>\n",
       "<style scoped>\n",
       "    .dataframe tbody tr th:only-of-type {\n",
       "        vertical-align: middle;\n",
       "    }\n",
       "\n",
       "    .dataframe tbody tr th {\n",
       "        vertical-align: top;\n",
       "    }\n",
       "\n",
       "    .dataframe thead th {\n",
       "        text-align: right;\n",
       "    }\n",
       "</style>\n",
       "<table border=\"1\" class=\"dataframe\">\n",
       "  <thead>\n",
       "    <tr style=\"text-align: right;\">\n",
       "      <th></th>\n",
       "      <th>Years</th>\n",
       "      <th>Salary</th>\n",
       "    </tr>\n",
       "  </thead>\n",
       "  <tbody>\n",
       "    <tr>\n",
       "      <th>0</th>\n",
       "      <td>1.1</td>\n",
       "      <td>39343</td>\n",
       "    </tr>\n",
       "    <tr>\n",
       "      <th>1</th>\n",
       "      <td>1.3</td>\n",
       "      <td>46205</td>\n",
       "    </tr>\n",
       "    <tr>\n",
       "      <th>2</th>\n",
       "      <td>1.5</td>\n",
       "      <td>37731</td>\n",
       "    </tr>\n",
       "    <tr>\n",
       "      <th>3</th>\n",
       "      <td>2.0</td>\n",
       "      <td>43525</td>\n",
       "    </tr>\n",
       "    <tr>\n",
       "      <th>4</th>\n",
       "      <td>2.2</td>\n",
       "      <td>39891</td>\n",
       "    </tr>\n",
       "  </tbody>\n",
       "</table>\n",
       "</div>"
      ],
      "text/plain": [
       "   Years  Salary\n",
       "0    1.1   39343\n",
       "1    1.3   46205\n",
       "2    1.5   37731\n",
       "3    2.0   43525\n",
       "4    2.2   39891"
      ]
     },
     "execution_count": 4,
     "metadata": {},
     "output_type": "execute_result"
    }
   ],
   "source": [
    "data.head()"
   ]
  },
  {
   "cell_type": "code",
   "execution_count": 5,
   "id": "690b48d3",
   "metadata": {},
   "outputs": [],
   "source": [
    "from sklearn.model_selection import train_test_split"
   ]
  },
  {
   "cell_type": "code",
   "execution_count": 8,
   "id": "fdf42554",
   "metadata": {},
   "outputs": [],
   "source": [
    "X = data[\"Years\"]\n",
    "y = data[\"Salary\"]"
   ]
  },
  {
   "cell_type": "code",
   "execution_count": 10,
   "id": "46ca7e82",
   "metadata": {},
   "outputs": [
    {
     "data": {
      "text/plain": [
       "(0      1.1\n",
       " 1      1.3\n",
       " 2      1.5\n",
       " 3      2.0\n",
       " 4      2.2\n",
       " 5      2.9\n",
       " 6      3.0\n",
       " 7      3.2\n",
       " 8      3.2\n",
       " 9      3.7\n",
       " 10     3.9\n",
       " 11     4.0\n",
       " 12     4.0\n",
       " 13     4.1\n",
       " 14     4.5\n",
       " 15     4.9\n",
       " 16     5.1\n",
       " 17     5.3\n",
       " 18     5.9\n",
       " 19     6.0\n",
       " 20     6.8\n",
       " 21     7.1\n",
       " 22     7.9\n",
       " 23     8.2\n",
       " 24     8.7\n",
       " 25     9.0\n",
       " 26     9.5\n",
       " 27     9.6\n",
       " 28    10.3\n",
       " 29    10.5\n",
       " Name: Years, dtype: float64,\n",
       " 0      39343\n",
       " 1      46205\n",
       " 2      37731\n",
       " 3      43525\n",
       " 4      39891\n",
       " 5      56642\n",
       " 6      60150\n",
       " 7      54445\n",
       " 8      64445\n",
       " 9      57189\n",
       " 10     63218\n",
       " 11     55794\n",
       " 12     56957\n",
       " 13     57081\n",
       " 14     61111\n",
       " 15     67938\n",
       " 16     66029\n",
       " 17     83088\n",
       " 18     81363\n",
       " 19     93940\n",
       " 20     91738\n",
       " 21     98273\n",
       " 22    101302\n",
       " 23    113812\n",
       " 24    109431\n",
       " 25    105582\n",
       " 26    116969\n",
       " 27    112635\n",
       " 28    122391\n",
       " 29    121872\n",
       " Name: Salary, dtype: int64)"
      ]
     },
     "execution_count": 10,
     "metadata": {},
     "output_type": "execute_result"
    }
   ],
   "source": [
    "X, y"
   ]
  },
  {
   "cell_type": "code",
   "execution_count": 12,
   "id": "9749266b",
   "metadata": {},
   "outputs": [],
   "source": [
    "X_train, X_test, y_train, y_test = train_test_split(X, y, train_size=0.8)"
   ]
  },
  {
   "cell_type": "code",
   "execution_count": 13,
   "id": "9529d71b",
   "metadata": {},
   "outputs": [
    {
     "data": {
      "text/plain": [
       "(24, 24, 6, 6)"
      ]
     },
     "execution_count": 13,
     "metadata": {},
     "output_type": "execute_result"
    }
   ],
   "source": [
    "len(X_train), len(y_train), len(X_test), len(y_test)"
   ]
  },
  {
   "cell_type": "code",
   "execution_count": 14,
   "id": "98c6f902",
   "metadata": {},
   "outputs": [],
   "source": [
    "from sklearn.linear_model import LinearRegression"
   ]
  },
  {
   "cell_type": "code",
   "execution_count": 15,
   "id": "48c2667d",
   "metadata": {},
   "outputs": [],
   "source": [
    "model = LinearRegression()"
   ]
  },
  {
   "cell_type": "code",
   "execution_count": 24,
   "id": "cd5301bf",
   "metadata": {},
   "outputs": [],
   "source": [
    "X_train = X_train.to_numpy()"
   ]
  },
  {
   "cell_type": "code",
   "execution_count": 26,
   "id": "cd955720",
   "metadata": {},
   "outputs": [],
   "source": [
    "X_train = X_train.reshape(-1,1)"
   ]
  },
  {
   "cell_type": "code",
   "execution_count": 27,
   "id": "36461e7f",
   "metadata": {},
   "outputs": [
    {
     "data": {
      "text/plain": [
       "(24, 1)"
      ]
     },
     "execution_count": 27,
     "metadata": {},
     "output_type": "execute_result"
    }
   ],
   "source": [
    "X_train.shape"
   ]
  },
  {
   "cell_type": "code",
   "execution_count": 28,
   "id": "a89f18ae",
   "metadata": {},
   "outputs": [
    {
     "data": {
      "text/plain": [
       "LinearRegression()"
      ]
     },
     "execution_count": 28,
     "metadata": {},
     "output_type": "execute_result"
    }
   ],
   "source": [
    "model.fit(X_train, y_train)"
   ]
  },
  {
   "cell_type": "code",
   "execution_count": 29,
   "id": "844b8621",
   "metadata": {},
   "outputs": [
    {
     "data": {
      "text/plain": [
       "LinearRegression()"
      ]
     },
     "execution_count": 29,
     "metadata": {},
     "output_type": "execute_result"
    }
   ],
   "source": [
    "model"
   ]
  },
  {
   "cell_type": "code",
   "execution_count": 31,
   "id": "68e20774",
   "metadata": {},
   "outputs": [],
   "source": [
    "x_test = X_test.to_numpy()\n",
    "X_test = x_test.reshape(-1,1)"
   ]
  },
  {
   "cell_type": "code",
   "execution_count": 33,
   "id": "d0e1ed14",
   "metadata": {},
   "outputs": [
    {
     "data": {
      "text/plain": [
       "(6, 1)"
      ]
     },
     "execution_count": 33,
     "metadata": {},
     "output_type": "execute_result"
    }
   ],
   "source": [
    "X_test.shape"
   ]
  },
  {
   "cell_type": "code",
   "execution_count": 34,
   "id": "d242d97c",
   "metadata": {},
   "outputs": [],
   "source": [
    "ans = model.predict(X_test)"
   ]
  },
  {
   "cell_type": "code",
   "execution_count": 35,
   "id": "8fd7dee1",
   "metadata": {},
   "outputs": [
    {
     "data": {
      "text/plain": [
       "array([37202.28476865, 43865.39362129, 89555.2828965 , 67662.21095213,\n",
       "       92410.9009762 , 75277.19249799])"
      ]
     },
     "execution_count": 35,
     "metadata": {},
     "output_type": "execute_result"
    }
   ],
   "source": [
    "ans"
   ]
  },
  {
   "cell_type": "code",
   "execution_count": 36,
   "id": "3c462a3d",
   "metadata": {},
   "outputs": [
    {
     "data": {
      "text/plain": [
       "1     46205\n",
       "3     43525\n",
       "20    91738\n",
       "14    61111\n",
       "21    98273\n",
       "17    83088\n",
       "Name: Salary, dtype: int64"
      ]
     },
     "execution_count": 36,
     "metadata": {},
     "output_type": "execute_result"
    }
   ],
   "source": [
    "y_test"
   ]
  },
  {
   "cell_type": "code",
   "execution_count": 37,
   "id": "8915d6ce",
   "metadata": {},
   "outputs": [],
   "source": [
    "output_table = pd.DataFrame({'actual_salary':y_test, 'predicted_salary':ans})"
   ]
  },
  {
   "cell_type": "code",
   "execution_count": 38,
   "id": "f573ada4",
   "metadata": {},
   "outputs": [
    {
     "data": {
      "text/html": [
       "<div>\n",
       "<style scoped>\n",
       "    .dataframe tbody tr th:only-of-type {\n",
       "        vertical-align: middle;\n",
       "    }\n",
       "\n",
       "    .dataframe tbody tr th {\n",
       "        vertical-align: top;\n",
       "    }\n",
       "\n",
       "    .dataframe thead th {\n",
       "        text-align: right;\n",
       "    }\n",
       "</style>\n",
       "<table border=\"1\" class=\"dataframe\">\n",
       "  <thead>\n",
       "    <tr style=\"text-align: right;\">\n",
       "      <th></th>\n",
       "      <th>actual_salary</th>\n",
       "      <th>predicted_salary</th>\n",
       "    </tr>\n",
       "  </thead>\n",
       "  <tbody>\n",
       "    <tr>\n",
       "      <th>1</th>\n",
       "      <td>46205</td>\n",
       "      <td>37202.284769</td>\n",
       "    </tr>\n",
       "    <tr>\n",
       "      <th>3</th>\n",
       "      <td>43525</td>\n",
       "      <td>43865.393621</td>\n",
       "    </tr>\n",
       "    <tr>\n",
       "      <th>20</th>\n",
       "      <td>91738</td>\n",
       "      <td>89555.282896</td>\n",
       "    </tr>\n",
       "    <tr>\n",
       "      <th>14</th>\n",
       "      <td>61111</td>\n",
       "      <td>67662.210952</td>\n",
       "    </tr>\n",
       "    <tr>\n",
       "      <th>21</th>\n",
       "      <td>98273</td>\n",
       "      <td>92410.900976</td>\n",
       "    </tr>\n",
       "    <tr>\n",
       "      <th>17</th>\n",
       "      <td>83088</td>\n",
       "      <td>75277.192498</td>\n",
       "    </tr>\n",
       "  </tbody>\n",
       "</table>\n",
       "</div>"
      ],
      "text/plain": [
       "    actual_salary  predicted_salary\n",
       "1           46205      37202.284769\n",
       "3           43525      43865.393621\n",
       "20          91738      89555.282896\n",
       "14          61111      67662.210952\n",
       "21          98273      92410.900976\n",
       "17          83088      75277.192498"
      ]
     },
     "execution_count": 38,
     "metadata": {},
     "output_type": "execute_result"
    }
   ],
   "source": [
    "output_table"
   ]
  },
  {
   "cell_type": "code",
   "execution_count": 39,
   "id": "0a2fae3b",
   "metadata": {},
   "outputs": [],
   "source": [
    "from sklearn.metrics import mean_squared_error, mean_absolute_error"
   ]
  },
  {
   "cell_type": "code",
   "execution_count": 40,
   "id": "09287f44",
   "metadata": {},
   "outputs": [
    {
     "data": {
      "text/plain": [
       "37370047.840927005"
      ]
     },
     "execution_count": 40,
     "metadata": {},
     "output_type": "execute_result"
    }
   ],
   "source": [
    "mean_squared_error(y_test, ans)"
   ]
  },
  {
   "cell_type": "code",
   "execution_count": 41,
   "id": "19a2f781",
   "metadata": {},
   "outputs": [
    {
     "data": {
      "text/plain": [
       "5291.657239012219"
      ]
     },
     "execution_count": 41,
     "metadata": {},
     "output_type": "execute_result"
    }
   ],
   "source": [
    "mean_absolute_error(y_test,ans)"
   ]
  },
  {
   "cell_type": "code",
   "execution_count": 59,
   "id": "3c564cba",
   "metadata": {},
   "outputs": [],
   "source": [
    "a = np.asarray([13.3]).reshape(-1,1)"
   ]
  },
  {
   "cell_type": "code",
   "execution_count": 60,
   "id": "87216aeb",
   "metadata": {},
   "outputs": [
    {
     "data": {
      "text/plain": [
       "(1, 1)"
      ]
     },
     "execution_count": 60,
     "metadata": {},
     "output_type": "execute_result"
    }
   ],
   "source": [
    "a.shape"
   ]
  },
  {
   "cell_type": "code",
   "execution_count": 61,
   "id": "3ec173cb",
   "metadata": {},
   "outputs": [
    {
     "data": {
      "text/plain": [
       "array([151427.00795667])"
      ]
     },
     "execution_count": 61,
     "metadata": {},
     "output_type": "execute_result"
    }
   ],
   "source": [
    "model.predict(a)"
   ]
  },
  {
   "cell_type": "code",
   "execution_count": null,
   "id": "33ffd743",
   "metadata": {},
   "outputs": [],
   "source": []
  }
 ],
 "metadata": {
  "kernelspec": {
   "display_name": "Python 3 (ipykernel)",
   "language": "python",
   "name": "python3"
  },
  "language_info": {
   "codemirror_mode": {
    "name": "ipython",
    "version": 3
   },
   "file_extension": ".py",
   "mimetype": "text/x-python",
   "name": "python",
   "nbconvert_exporter": "python",
   "pygments_lexer": "ipython3",
   "version": "3.9.7"
  }
 },
 "nbformat": 4,
 "nbformat_minor": 5
}
